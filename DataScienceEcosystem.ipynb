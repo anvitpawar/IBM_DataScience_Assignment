{
 "cells": [
  {
   "cell_type": "code",
   "execution_count": null,
   "id": "91ac751b-26e7-402f-8aab-38d3f767bbbc",
   "metadata": {},
   "outputs": [],
   "source": []
  },
  {
   "cell_type": "markdown",
   "id": "5725abab-2cd7-4393-8780-02fb824a66cd",
   "metadata": {
    "tags": []
   },
   "source": [
    "# Data Science Tools and EcosystemData Science Tools and Ecosystem"
   ]
  },
  {
   "cell_type": "markdown",
   "id": "f9e3d2cd-a471-47e8-be6b-a04782696e08",
   "metadata": {},
   "source": [
    "In this notebook, Data Science Tools and Ecosystem are summarized."
   ]
  },
  {
   "cell_type": "markdown",
   "id": "99b8c1ed-478b-484c-84d1-0639412bd871",
   "metadata": {},
   "source": [
    "__Objectives:__\n",
    "* RStudio\n",
    "* Python\n",
    "* Jupyter Notebook\n",
    "* GitHub\n",
    "* Tools for DS"
   ]
  },
  {
   "cell_type": "markdown",
   "id": "e89d4738-2b78-4760-a74f-5b7d0a1e4636",
   "metadata": {},
   "source": [
    "Some of the popular languages that Data Scientists use are:\n",
    "1. Python\n",
    "2. R\n",
    "3. Java\n",
    "4. C/C++\n",
    "5. Julia"
   ]
  },
  {
   "cell_type": "markdown",
   "id": "43ed0ae7-5911-4e5e-a94e-50ad05b3ff10",
   "metadata": {
    "tags": []
   },
   "source": [
    "Some of the commonly used libraries used by Data Scientists include:\n",
    "1. Seaborn\n",
    "2. Matplotlib\n",
    "3. PyTorch\n",
    "4. TensorFlow\n",
    "5. SciKit-Learn\n",
    "    "
   ]
  },
  {
   "cell_type": "markdown",
   "id": "c2b231c3-42ac-4560-a2f8-ddfae4fb89b8",
   "metadata": {},
   "source": [
    "|Data Science Tools|\n",
    "|------------------|\n",
    "|Apache Spark|\n",
    "|Jupyter Notebook|\n",
    "|Keras|"
   ]
  },
  {
   "cell_type": "markdown",
   "id": "7812f82d-39b0-4947-961e-2b498a7cbbad",
   "metadata": {},
   "source": [
    "### Below are a few examples of evaluating arithmetic expressions in Python\n",
    "+ (unary)\t+a\tUnary Positive\n",
    "- (unary)\t-a\tUnary Negation\n",
    "+ (binary)\ta + b\tAddition\n",
    "* (binary) a * b\tMultiplication"
   ]
  },
  {
   "cell_type": "code",
   "execution_count": 8,
   "id": "13270ca1-80b9-47be-8bb1-532138e033c6",
   "metadata": {
    "tags": []
   },
   "outputs": [
    {
     "data": {
      "text/plain": [
       "17"
      ]
     },
     "execution_count": 8,
     "metadata": {},
     "output_type": "execute_result"
    }
   ],
   "source": [
    "#This a simple arithmetic expression to mutiply then add integers\n",
    "(3*4)+5"
   ]
  },
  {
   "cell_type": "code",
   "execution_count": 9,
   "id": "8887ab3a-b003-4f96-b511-2c1052f67c31",
   "metadata": {
    "tags": []
   },
   "outputs": [
    {
     "name": "stdout",
     "output_type": "stream",
     "text": [
      "3.3333333333333335 hours\n"
     ]
    }
   ],
   "source": [
    "# This will convert 200 minutes to hours by diving by 60\n",
    "time=200\n",
    "result=time/60\n",
    "print(f\"{result} hours\")"
   ]
  },
  {
   "cell_type": "markdown",
   "id": "423c2cf9-bd38-4d48-a6cb-0774c9c9becb",
   "metadata": {},
   "source": [
    "## Author\n",
    "Anvit Pawar"
   ]
  },
  {
   "cell_type": "code",
   "execution_count": null,
   "id": "0b7a1d7d-efea-4d12-b1d4-30734329d46d",
   "metadata": {},
   "outputs": [],
   "source": []
  }
 ],
 "metadata": {
  "kernelspec": {
   "display_name": "Python",
   "language": "python",
   "name": "conda-env-python-py"
  },
  "language_info": {
   "codemirror_mode": {
    "name": "ipython",
    "version": 3
   },
   "file_extension": ".py",
   "mimetype": "text/x-python",
   "name": "python",
   "nbconvert_exporter": "python",
   "pygments_lexer": "ipython3",
   "version": "3.7.12"
  }
 },
 "nbformat": 4,
 "nbformat_minor": 5
}
